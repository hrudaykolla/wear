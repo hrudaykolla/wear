{
 "cells": [
  {
   "cell_type": "code",
   "execution_count": 2,
   "metadata": {},
   "outputs": [
    {
     "name": "stderr",
     "output_type": "stream",
     "text": [
      "/var/folders/5d/l0hr0c0n41326gh3kfwrj42c0000gn/T/ipykernel_34190/3917380959.py:32: DtypeWarning: Columns (114) have mixed types. Specify dtype option on import or set low_memory=False.\n",
      "  raw_inertial_sbj = pd.read_csv(os.path.join(raw_inertial_folder, sbj + '.csv'), index_col=None)\n",
      "/var/folders/5d/l0hr0c0n41326gh3kfwrj42c0000gn/T/ipykernel_34190/3917380959.py:32: DtypeWarning: Columns (114) have mixed types. Specify dtype option on import or set low_memory=False.\n",
      "  raw_inertial_sbj = pd.read_csv(os.path.join(raw_inertial_folder, sbj + '.csv'), index_col=None)\n",
      "/var/folders/5d/l0hr0c0n41326gh3kfwrj42c0000gn/T/ipykernel_34190/3917380959.py:45: DtypeWarning: Columns (114) have mixed types. Specify dtype option on import or set low_memory=False.\n",
      "  raw_inertial_sbj_t = pd.read_csv(os.path.join(raw_inertial_folder, curr_sbj + '.csv'), index_col=None)\n",
      "/var/folders/5d/l0hr0c0n41326gh3kfwrj42c0000gn/T/ipykernel_34190/3917380959.py:45: DtypeWarning: Columns (114) have mixed types. Specify dtype option on import or set low_memory=False.\n",
      "  raw_inertial_sbj_t = pd.read_csv(os.path.join(raw_inertial_folder, curr_sbj + '.csv'), index_col=None)\n",
      "/var/folders/5d/l0hr0c0n41326gh3kfwrj42c0000gn/T/ipykernel_34190/3917380959.py:45: DtypeWarning: Columns (114) have mixed types. Specify dtype option on import or set low_memory=False.\n",
      "  raw_inertial_sbj_t = pd.read_csv(os.path.join(raw_inertial_folder, curr_sbj + '.csv'), index_col=None)\n",
      "/var/folders/5d/l0hr0c0n41326gh3kfwrj42c0000gn/T/ipykernel_34190/3917380959.py:45: DtypeWarning: Columns (114) have mixed types. Specify dtype option on import or set low_memory=False.\n",
      "  raw_inertial_sbj_t = pd.read_csv(os.path.join(raw_inertial_folder, curr_sbj + '.csv'), index_col=None)\n",
      "/var/folders/5d/l0hr0c0n41326gh3kfwrj42c0000gn/T/ipykernel_34190/3917380959.py:45: DtypeWarning: Columns (114) have mixed types. Specify dtype option on import or set low_memory=False.\n",
      "  raw_inertial_sbj_t = pd.read_csv(os.path.join(raw_inertial_folder, curr_sbj + '.csv'), index_col=None)\n",
      "/var/folders/5d/l0hr0c0n41326gh3kfwrj42c0000gn/T/ipykernel_34190/3917380959.py:45: DtypeWarning: Columns (114) have mixed types. Specify dtype option on import or set low_memory=False.\n",
      "  raw_inertial_sbj_t = pd.read_csv(os.path.join(raw_inertial_folder, curr_sbj + '.csv'), index_col=None)\n"
     ]
    }
   ],
   "source": [
    "import json\n",
    "import os\n",
    "import numpy as np\n",
    "import pandas as pd\n",
    "\n",
    "from utils import apply_sliding_window, label_dict, convert_labels_to_annotation_json\n",
    "\n",
    "total_sbjs = ['sbj_1', 'sbj_2', 'sbj_3', 'sbj_4']\n",
    "\n",
    "#define split for validation (kepping subject 1 in training for 3 splits and 2,3,4\n",
    "#  acts as validation for each split)\n",
    "sbj_split = [['sbj_2'], ['sbj_3'], ['sbj_4']]\n",
    "\n",
    "# change these parameters\n",
    "window_overlap = 50 # In percentage\n",
    "window_size = 30 #for 1s window frame\n",
    "# sampling frequency is 30 Hz (for 0.5s (Window size = 15), 1s (Window size = 30), 2s (Window size = 60))\n",
    "frames = 60 #assuming 60fps\n",
    "stride = 30 # 30 strides for 1 second frame\n",
    "\n",
    "# change output folder\n",
    "raw_inertial_folder = './opportunity_adl_data/raw_filled_zero/'\n",
    "inertial_folder = './opportunity_adl_data/concatenated_data/inertial_features/{}_frames_{}_stride'.format(frames, stride)\n",
    "os.makedirs(inertial_folder, exist_ok=True)\n",
    "\n",
    "# fixed dataset properties\n",
    "nb_sbjs = 4\n",
    "fps = 60\n",
    "sampling_rate = 30\n",
    "\n",
    "for sbj in total_sbjs:\n",
    "    raw_inertial_sbj = pd.read_csv(os.path.join(raw_inertial_folder, sbj + '.csv'), index_col=None)          \n",
    "    inertial_sbj = raw_inertial_sbj.replace({\"label\": label_dict}).fillna(-1).to_numpy()\n",
    "    _, win_sbj, _ = apply_sliding_window(inertial_sbj, window_size, window_overlap)\n",
    "    flipped_sbj = np.transpose(win_sbj[:, :, 1:], (0,2,1))\n",
    "    flat_win_sbj = win_sbj.reshape(win_sbj.shape[0], -1)\n",
    "    output_inertial = flipped_sbj.reshape(flipped_sbj.shape[0], -1)\n",
    "    np.save(os.path.join(inertial_folder, sbj + '.npy'), output_inertial)\n",
    "\n",
    "for i, split_sbjs in enumerate(sbj_split):\n",
    "    opportunity_annotations = {'version': 'opportunity', 'database': {}, 'label_dict': label_dict}\n",
    "    # create video annotations\n",
    "    for j in range(1,nb_sbjs+1):\n",
    "        curr_sbj = \"sbj_\"+str(j)\n",
    "        raw_inertial_sbj_t = pd.read_csv(os.path.join(raw_inertial_folder, curr_sbj + '.csv'), index_col=None)\n",
    "        duration_seconds = len(raw_inertial_sbj_t) / sampling_rate\n",
    "        sbj_annos = convert_labels_to_annotation_json(raw_inertial_sbj_t.iloc[:, -1], sampling_rate, fps, label_dict)\n",
    "        if curr_sbj in split_sbjs:\n",
    "            train_test = 'Validation'\n",
    "        else:\n",
    "            train_test = 'Training'\n",
    "        opportunity_annotations['database']['sbj_' + str(int(j))] = {\n",
    "            'subset': train_test,\n",
    "            'duration': duration_seconds,\n",
    "            'fps': fps,\n",
    "            'annotations': sbj_annos,\n",
    "            } \n",
    "        with open('./' + 'opportunity_split_' + str(int(i+1)) +  '.json', 'w') as outfile:\n",
    "            outfile.write(json.dumps(opportunity_annotations, indent = 4))\n"
   ]
  }
 ],
 "metadata": {
  "kernelspec": {
   "display_name": "Python 3",
   "language": "python",
   "name": "python3"
  },
  "language_info": {
   "codemirror_mode": {
    "name": "ipython",
    "version": 3
   },
   "file_extension": ".py",
   "mimetype": "text/x-python",
   "name": "python",
   "nbconvert_exporter": "python",
   "pygments_lexer": "ipython3",
   "version": "3.11.3"
  },
  "orig_nbformat": 4
 },
 "nbformat": 4,
 "nbformat_minor": 2
}
