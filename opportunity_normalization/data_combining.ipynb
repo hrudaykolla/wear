{
 "cells": [
  {
   "cell_type": "code",
   "execution_count": null,
   "metadata": {},
   "outputs": [],
   "source": [
    "#appending ADL 1-5 to one subject file and also appending all subjects to single file\n",
    "import numpy as np\n",
    "import pandas as pd\n",
    "import os\n",
    "\n",
    "file_save_path = f\"./opportunity_data/raw/ADL_combined/\"\n",
    "os.makedirs(file_save_path, exist_ok=True)\n",
    "\n",
    "all_sub_data = np.empty((0, 116))\n",
    "for i in range(1,5):\n",
    "    print(f\"Appending ADL 1-5 of Subject {i} data to single file\")\n",
    "    sbj_data = np.empty((0, 116))\n",
    "    for j in range(1,6):\n",
    "        print(f\"for Subject {i} Appended ADL {j}\")\n",
    "        file_path = f\"OpportunityChallengeLabeled/S{i}-ADL{j}.dat\"\n",
    "        adl_data = np.genfromtxt(file_path, delimiter=None, filling_values=np.nan, dtype=float)\n",
    "        print(f\"Subject {i} ADL {j} data shape: {adl_data.shape}\")\n",
    "        sbj_data = np.vstack((sbj_data, adl_data))\n",
    "    print(f\"Subject {i} Total subject data shape: {sbj_data.shape}\")\n",
    "    np.save(file_save_path + f\"sub_{i}\",sbj_data)\n",
    "\n",
    "    all_sub_data = np.vstack((all_sub_data, sbj_data))\n",
    "    print(f\"All subject data shape: {all_sub_data.shape}\")\n",
    "np.save(file_save_path + \"sub_1_2_3_4\",all_sub_data)"
   ]
  }
 ],
 "metadata": {
  "language_info": {
   "name": "python"
  }
 },
 "nbformat": 4,
 "nbformat_minor": 2
}
